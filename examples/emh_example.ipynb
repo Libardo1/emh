{
 "cells": [
  {
   "cell_type": "markdown",
   "metadata": {},
   "source": [
    "# The emh Rpackage"
   ]
  },
  {
   "cell_type": "markdown",
   "metadata": {},
   "source": [
    "The emh package allows you to test the effeciency of any univariate zoo time series object in R.\n",
    "\n",
    "The package achieves this using the following methodology,\n",
    "\n",
    "* Downsample the data into a number of subfrequencies\n",
    "* Run a suite of statistical tests of randomness on each subfrequency\n",
    "* Aggregate the results (p values, Z scores, etc.) in a data.frame and return it\n",
    "\n",
    "In addition to randomness tests emh also includes a number of stochastic process models."
   ]
  },
  {
   "cell_type": "markdown",
   "metadata": {},
   "source": [
    "## Installing the package"
   ]
  },
  {
   "cell_type": "markdown",
   "metadata": {},
   "source": [
    "The first step to using the package is to download it and install it using the devtools R package"
   ]
  },
  {
   "cell_type": "code",
   "execution_count": 1,
   "metadata": {
    "collapsed": true
   },
   "outputs": [],
   "source": [
    "library(devtools)\n",
    "suppressMessages(install_github(repo=\"stuartgordonreid/emh\", \n",
    "                                force = TRUE))"
   ]
  },
  {
   "cell_type": "markdown",
   "metadata": {},
   "source": [
    "Now check that you can load the package,"
   ]
  },
  {
   "cell_type": "code",
   "execution_count": 2,
   "metadata": {
    "collapsed": true
   },
   "outputs": [],
   "source": [
    "suppressMessages(library(emh))"
   ]
  },
  {
   "cell_type": "markdown",
   "metadata": {},
   "source": [
    "## Getting datasets"
   ]
  },
  {
   "cell_type": "markdown",
   "metadata": {},
   "source": [
    "The emh package includes a few functions which allow you to download a bunch of global stock market indices from Quandl.com right off the bat. You can, of course, also pass in your own data. I recommend sticking with zoo objects when using emh because of how the downsampling works."
   ]
  },
  {
   "cell_type": "code",
   "execution_count": 3,
   "metadata": {
    "collapsed": false
   },
   "outputs": [
    {
     "name": "stdout",
     "output_type": "stream",
     "text": [
      "[1] \"DOWNLOADING DATASETS ...\"\n",
      "\r",
      "  |                                                                            \r",
      "  |                                                                      |   0%\r",
      "  |                                                                            \r",
      "  |=                                                                     |   2%\r",
      "  |                                                                            \r",
      "  |===                                                                   |   4%\r",
      "  |                                                                            \r",
      "  |====                                                                  |   6%\r",
      "  |                                                                            \r",
      "  |=====                                                                 |   8%\r",
      "  |                                                                            \r",
      "  |=======                                                               |  10%\r",
      "  |                                                                            \r",
      "  |========                                                              |  12%\r",
      "  |                                                                            \r",
      "  |==========                                                            |  14%\r",
      "  |                                                                            \r",
      "  |===========                                                           |  16%\r",
      "  |                                                                            \r",
      "  |============                                                          |  18%\r",
      "  |                                                                            \r",
      "  |==============                                                        |  20%\r",
      "  |                                                                            \r",
      "  |===============                                                       |  22%\r",
      "  |                                                                            \r",
      "  |================                                                      |  24%\r",
      "  |                                                                            \r",
      "  |==================                                                    |  25%\r",
      "  |                                                                            \r",
      "  |===================                                                   |  27%\r",
      "  |                                                                            \r",
      "  |=====================                                                 |  29%\r",
      "  |                                                                            \r",
      "  |======================                                                |  31%\r",
      "  |                                                                            \r",
      "  |=======================                                               |  33%\r",
      "  |                                                                            \r",
      "  |=========================                                             |  35%\r",
      "  |                                                                            \r",
      "  |==========================                                            |  37%\r",
      "  |                                                                            \r",
      "  |===========================                                           |  39%\r",
      "  |                                                                            \r",
      "  |=============================                                         |  41%\r",
      "  |                                                                            \r",
      "  |==============================                                        |  43%\r",
      "  |                                                                            \r",
      "  |================================                                      |  45%\r",
      "  |                                                                            \r",
      "  |=================================                                     |  47%\r",
      "  |                                                                            \r",
      "  |==================================                                    |  49%\r",
      "  |                                                                            \r",
      "  |====================================                                  |  51%\r",
      "  |                                                                            \r",
      "  |=====================================                                 |  53%\r",
      "  |                                                                            \r",
      "  |======================================                                |  55%\r",
      "  |                                                                            \r",
      "  |========================================                              |  57%\r",
      "  |                                                                            \r",
      "  |=========================================                             |  59%\r",
      "  |                                                                            \r",
      "  |===========================================                           |  61%\r",
      "  |                                                                            \r",
      "  |============================================                          |  63%\r",
      "  |                                                                            \r",
      "  |=============================================                         |  65%\r",
      "  |                                                                            \r",
      "  |===============================================                       |  67%\r",
      "  |                                                                            \r",
      "  |================================================                      |  69%\r",
      "  |                                                                            \r",
      "  |=================================================                     |  71%\r",
      "  |                                                                            \r",
      "  |===================================================                   |  73%\r",
      "  |                                                                            \r",
      "  |====================================================                  |  75%\r",
      "  |                                                                            \r",
      "  |======================================================                |  76%\r",
      "  |                                                                            \r",
      "  |=======================================================               |  78%\r",
      "  |                                                                            \r",
      "  |========================================================              |  80%\r",
      "  |                                                                            \r",
      "  |==========================================================            |  82%\r",
      "  |                                                                            \r",
      "  |===========================================================           |  84%\r",
      "  |                                                                            \r",
      "  |============================================================          |  86%\r",
      "  |                                                                            \r",
      "  |==============================================================        |  88%\r",
      "  |                                                                            \r",
      "  |===============================================================       |  90%\r",
      "  |                                                                            \r",
      "  |=================================================================     |  92%\r",
      "  |                                                                            \r",
      "  |==================================================================    |  94%\r",
      "  |                                                                            \r",
      "  |===================================================================   |  96%\r",
      "  |                                                                            \r",
      "  |===================================================================== |  98%\r",
      "  |                                                                            \r",
      "  |======================================================================| 100%"
     ]
    }
   ],
   "source": [
    "# This may take some time. Use the S3, $ operator to see the datasets.\n",
    "global_indices <- emh::data_quandl_downloader(data_quandl_indices())"
   ]
  },
  {
   "cell_type": "markdown",
   "metadata": {},
   "source": [
    "## Generating results"
   ]
  },
  {
   "cell_type": "markdown",
   "metadata": {},
   "source": [
    "Generating a data.frame with the results from each of the randomness tests is as easy as passing a zoo object into the is_random function in emh. This function will downsample the data into multiple lower frequencies and run a battery of tests on each subfrequency. \n",
    "\n",
    "Frequencies are specified by the freqs1 and freqs2 arguments,\n",
    "\n",
    "* freqs1 - this specifies the _lags_ to use when computing returns\n",
    "* freqs2 - this specifies time-aware lags. Options are: c(\"Mon\", \"Tue\", \"Wed\", \"Thu\", \"Fri\", \"Week\", \"Month\")"
   ]
  },
  {
   "cell_type": "code",
   "execution_count": 4,
   "metadata": {
    "collapsed": false
   },
   "outputs": [
    {
     "name": "stdout",
     "output_type": "stream",
     "text": [
      "\r",
      "  |                                                                            \r",
      "  |                                                                      |   0%\r",
      "  |                                                                            \r",
      "  |====                                                                  |   6%\r",
      "  |                                                                            \r",
      "  |========                                                              |  12%\r",
      "  |                                                                            \r",
      "  |============                                                          |  18%\r",
      "  |                                                                            \r",
      "  |================                                                      |  24%\r",
      "  |                                                                            \r",
      "  |=====================                                                 |  29%\r",
      "  |                                                                            \r",
      "  |=========================                                             |  35%\r",
      "  |                                                                            \r",
      "  |=============================                                         |  41%\r",
      "  |                                                                            \r",
      "  |=================================                                     |  47%\r",
      "  |                                                                            \r",
      "  |=====================================                                 |  53%\r",
      "  |                                                                            \r",
      "  |=========================================                             |  59%\r",
      "  |                                                                            \r",
      "  |=============================================                         |  65%\r",
      "  |                                                                            \r",
      "  |=================================================                     |  71%\r",
      "  |                                                                            \r",
      "  |======================================================                |  76%\r",
      "  |                                                                            \r",
      "  |==========================================================            |  82%\r",
      "  |                                                                            \r",
      "  |==============================================================        |  88%\r",
      "  |                                                                            \r",
      "  |==================================================================    |  94%\r",
      "  |                                                                            \r",
      "  |======================================================================| 100%"
     ]
    }
   ],
   "source": [
    "results <- is_random(S = global_indices$'YAHOO/INDEX_SML',\n",
    "                     a = 0.99, # To get a 99% confident result\n",
    "                     freqs1 = c(1, 2, 3, 4, 5, 6, 7, 8, 9, 10),\n",
    "                     freqs2 = c(\"Mon\", \"Tue\", \"Wed\", \"Thu\", \"Fri\", \"Week\", \"Month\"))"
   ]
  },
  {
   "cell_type": "markdown",
   "metadata": {},
   "source": [
    "## Viewing the results"
   ]
  },
  {
   "cell_type": "markdown",
   "metadata": {},
   "source": [
    "You can now view the results (a data.frame object) or plot some interesting statistics"
   ]
  },
  {
   "cell_type": "code",
   "execution_count": 5,
   "metadata": {
    "collapsed": false
   },
   "outputs": [
    {
     "data": {
      "text/html": [
       "<table>\n",
       "<thead><tr><th scope=col>Test_Name</th><th scope=col>Frequency</th><th scope=col>Sample_Size</th><th scope=col>Statistic</th><th scope=col>Two_sided_p</th><th scope=col>Z_Score</th><th scope=col>Non_Random</th></tr></thead>\n",
       "<tbody>\n",
       "\t<tr><td>Independent Runs    </td><td>(t-1 to t)          </td><td>7031                </td><td>3222.000000         </td><td>0.000000            </td><td>-6.401018           </td><td> TRUE               </td></tr>\n",
       "\t<tr><td>Durbin-Watson       </td><td>(t-1 to t)          </td><td>7031                </td><td>   1.984082         </td><td>0.504560            </td><td> 0.011432           </td><td>FALSE               </td></tr>\n",
       "\t<tr><td>Ljung-Box           </td><td>(t-1 to t)          </td><td>7031                </td><td>  40.018562         </td><td>0.000451            </td><td>-3.319694           </td><td> TRUE               </td></tr>\n",
       "\t<tr><td>Breusch-Godfrey     </td><td>(t-1 to t)          </td><td>7031                </td><td>   0.443437         </td><td>0.505468            </td><td> 0.013707           </td><td>FALSE               </td></tr>\n",
       "\t<tr><td>Bartell Rank        </td><td>(t-1 to t)          </td><td>7031                </td><td>  -4.581588         </td><td>0.000005            </td><td>-4.434487           </td><td> TRUE               </td></tr>\n",
       "\t<tr><td>Variance-Ratio LoMac</td><td>(t-1 to t)          </td><td>7031                </td><td>   0.524304         </td><td>0.612558            </td><td> 0.285993           </td><td>FALSE               </td></tr>\n",
       "\t<tr><td>Independent Runs    </td><td>(t-2 to t)          </td><td>3515                </td><td>1615.000000         </td><td>0.000025            </td><td>-4.056609           </td><td> TRUE               </td></tr>\n",
       "\t<tr><td>Durbin-Watson       </td><td>(t-2 to t)          </td><td>3515                </td><td>   2.014065         </td><td>0.676748            </td><td> 0.458625           </td><td>FALSE               </td></tr>\n",
       "\t<tr><td>Ljung-Box           </td><td>(t-2 to t)          </td><td>3515                </td><td>  35.686137         </td><td>0.001962            </td><td>-2.884263           </td><td> TRUE               </td></tr>\n",
       "\t<tr><td>Breusch-Godfrey     </td><td>(t-2 to t)          </td><td>3515                </td><td>   0.187524         </td><td>0.664985            </td><td> 0.426107           </td><td>FALSE               </td></tr>\n",
       "\t<tr><td>Bartell Rank        </td><td>(t-2 to t)          </td><td>3515                </td><td>  -1.561292         </td><td>0.118455            </td><td>-1.182746           </td><td>FALSE               </td></tr>\n",
       "\t<tr><td>Variance-Ratio LoMac</td><td>(t-2 to t)          </td><td>3515                </td><td>  -0.298505         </td><td>0.427464            </td><td>-0.182833           </td><td>FALSE               </td></tr>\n",
       "\t<tr><td>Independent Runs    </td><td>(t-3 to t)          </td><td>2343                </td><td>1107.000000         </td><td>0.034269            </td><td>-1.821457           </td><td>FALSE               </td></tr>\n",
       "\t<tr><td>Durbin-Watson       </td><td>(t-3 to t)          </td><td>2343                </td><td>   2.059903         </td><td>0.146764            </td><td>-1.050415           </td><td>FALSE               </td></tr>\n",
       "\t<tr><td>Ljung-Box           </td><td>(t-3 to t)          </td><td>2343                </td><td>  36.372465         </td><td>0.001562            </td><td>-2.955341           </td><td> TRUE               </td></tr>\n",
       "\t<tr><td>Breusch-Godfrey     </td><td>(t-3 to t)          </td><td>2343                </td><td>   2.178456         </td><td>0.139955            </td><td>-1.080523           </td><td>FALSE               </td></tr>\n",
       "\t<tr><td>Bartell Rank        </td><td>(t-3 to t)          </td><td>2343                </td><td>   0.044739         </td><td>0.964315            </td><td> 1.803117           </td><td>FALSE               </td></tr>\n",
       "\t<tr><td>Variance-Ratio LoMac</td><td>(t-3 to t)          </td><td>2343                </td><td>   2.593742         </td><td>0.889218            </td><td> 1.222378           </td><td>FALSE               </td></tr>\n",
       "\t<tr><td>Independent Runs    </td><td>(t-4 to t)          </td><td>1757                </td><td> 861.000000         </td><td>0.467113            </td><td>-0.082529           </td><td>FALSE               </td></tr>\n",
       "\t<tr><td>Durbin-Watson       </td><td>(t-4 to t)          </td><td>1757                </td><td>   2.046819         </td><td>0.325923            </td><td>-0.451198           </td><td>FALSE               </td></tr>\n",
       "\t<tr><td>Ljung-Box           </td><td>(t-4 to t)          </td><td>1757                </td><td>  18.857366         </td><td>0.220270            </td><td>-0.771281           </td><td>FALSE               </td></tr>\n",
       "\t<tr><td>Breusch-Godfrey     </td><td>(t-4 to t)          </td><td>1757                </td><td>   0.988215         </td><td>0.320179            </td><td>-0.467198           </td><td>FALSE               </td></tr>\n",
       "\t<tr><td>Bartell Rank        </td><td>(t-4 to t)          </td><td>1757                </td><td>   1.664227         </td><td>0.096067            </td><td>-1.304292           </td><td>FALSE               </td></tr>\n",
       "\t<tr><td>Variance-Ratio LoMac</td><td>(t-4 to t)          </td><td>1757                </td><td>   2.066387         </td><td>0.898717            </td><td> 1.274274           </td><td>FALSE               </td></tr>\n",
       "\t<tr><td>Independent Runs    </td><td>(t-5 to t)          </td><td>1406                </td><td> 713.000000         </td><td>0.905517            </td><td> 1.313647           </td><td>FALSE               </td></tr>\n",
       "\t<tr><td>Durbin-Watson       </td><td>(t-5 to t)          </td><td>1406                </td><td>   2.041354         </td><td>0.437799            </td><td>-0.156551           </td><td>FALSE               </td></tr>\n",
       "\t<tr><td>Ljung-Box           </td><td>(t-5 to t)          </td><td>1406                </td><td>  14.701537         </td><td>0.473122            </td><td>-0.067424           </td><td>FALSE               </td></tr>\n",
       "\t<tr><td>Breusch-Godfrey     </td><td>(t-5 to t)          </td><td>1406                </td><td>   0.614943         </td><td>0.432933            </td><td>-0.168913           </td><td>FALSE               </td></tr>\n",
       "\t<tr><td>Bartell Rank        </td><td>(t-5 to t)          </td><td>1406                </td><td>   1.576687         </td><td>0.114868            </td><td>-1.201041           </td><td>FALSE               </td></tr>\n",
       "\t<tr><td>Variance-Ratio LoMac</td><td>(t-5 to t)          </td><td>1406                </td><td>   0.509927         </td><td>0.623519            </td><td> 0.314736           </td><td>FALSE               </td></tr>\n",
       "</tbody>\n",
       "</table>\n"
      ],
      "text/latex": [
       "\\begin{tabular}{r|lllllll}\n",
       " Test\\_Name & Frequency & Sample\\_Size & Statistic & Two\\_sided\\_p & Z\\_Score & Non\\_Random\\\\\n",
       "\\hline\n",
       "\t Independent Runs     & (t-1 to t)           & 7031                 & 3222.000000          & 0.000000             & -6.401018            &  TRUE               \\\\\n",
       "\t Durbin-Watson        & (t-1 to t)           & 7031                 &    1.984082          & 0.504560             &  0.011432            & FALSE               \\\\\n",
       "\t Ljung-Box            & (t-1 to t)           & 7031                 &   40.018562          & 0.000451             & -3.319694            &  TRUE               \\\\\n",
       "\t Breusch-Godfrey      & (t-1 to t)           & 7031                 &    0.443437          & 0.505468             &  0.013707            & FALSE               \\\\\n",
       "\t Bartell Rank         & (t-1 to t)           & 7031                 &   -4.581588          & 0.000005             & -4.434487            &  TRUE               \\\\\n",
       "\t Variance-Ratio LoMac & (t-1 to t)           & 7031                 &    0.524304          & 0.612558             &  0.285993            & FALSE               \\\\\n",
       "\t Independent Runs     & (t-2 to t)           & 3515                 & 1615.000000          & 0.000025             & -4.056609            &  TRUE               \\\\\n",
       "\t Durbin-Watson        & (t-2 to t)           & 3515                 &    2.014065          & 0.676748             &  0.458625            & FALSE               \\\\\n",
       "\t Ljung-Box            & (t-2 to t)           & 3515                 &   35.686137          & 0.001962             & -2.884263            &  TRUE               \\\\\n",
       "\t Breusch-Godfrey      & (t-2 to t)           & 3515                 &    0.187524          & 0.664985             &  0.426107            & FALSE               \\\\\n",
       "\t Bartell Rank         & (t-2 to t)           & 3515                 &   -1.561292          & 0.118455             & -1.182746            & FALSE               \\\\\n",
       "\t Variance-Ratio LoMac & (t-2 to t)           & 3515                 &   -0.298505          & 0.427464             & -0.182833            & FALSE               \\\\\n",
       "\t Independent Runs     & (t-3 to t)           & 2343                 & 1107.000000          & 0.034269             & -1.821457            & FALSE               \\\\\n",
       "\t Durbin-Watson        & (t-3 to t)           & 2343                 &    2.059903          & 0.146764             & -1.050415            & FALSE               \\\\\n",
       "\t Ljung-Box            & (t-3 to t)           & 2343                 &   36.372465          & 0.001562             & -2.955341            &  TRUE               \\\\\n",
       "\t Breusch-Godfrey      & (t-3 to t)           & 2343                 &    2.178456          & 0.139955             & -1.080523            & FALSE               \\\\\n",
       "\t Bartell Rank         & (t-3 to t)           & 2343                 &    0.044739          & 0.964315             &  1.803117            & FALSE               \\\\\n",
       "\t Variance-Ratio LoMac & (t-3 to t)           & 2343                 &    2.593742          & 0.889218             &  1.222378            & FALSE               \\\\\n",
       "\t Independent Runs     & (t-4 to t)           & 1757                 &  861.000000          & 0.467113             & -0.082529            & FALSE               \\\\\n",
       "\t Durbin-Watson        & (t-4 to t)           & 1757                 &    2.046819          & 0.325923             & -0.451198            & FALSE               \\\\\n",
       "\t Ljung-Box            & (t-4 to t)           & 1757                 &   18.857366          & 0.220270             & -0.771281            & FALSE               \\\\\n",
       "\t Breusch-Godfrey      & (t-4 to t)           & 1757                 &    0.988215          & 0.320179             & -0.467198            & FALSE               \\\\\n",
       "\t Bartell Rank         & (t-4 to t)           & 1757                 &    1.664227          & 0.096067             & -1.304292            & FALSE               \\\\\n",
       "\t Variance-Ratio LoMac & (t-4 to t)           & 1757                 &    2.066387          & 0.898717             &  1.274274            & FALSE               \\\\\n",
       "\t Independent Runs     & (t-5 to t)           & 1406                 &  713.000000          & 0.905517             &  1.313647            & FALSE               \\\\\n",
       "\t Durbin-Watson        & (t-5 to t)           & 1406                 &    2.041354          & 0.437799             & -0.156551            & FALSE               \\\\\n",
       "\t Ljung-Box            & (t-5 to t)           & 1406                 &   14.701537          & 0.473122             & -0.067424            & FALSE               \\\\\n",
       "\t Breusch-Godfrey      & (t-5 to t)           & 1406                 &    0.614943          & 0.432933             & -0.168913            & FALSE               \\\\\n",
       "\t Bartell Rank         & (t-5 to t)           & 1406                 &    1.576687          & 0.114868             & -1.201041            & FALSE               \\\\\n",
       "\t Variance-Ratio LoMac & (t-5 to t)           & 1406                 &    0.509927          & 0.623519             &  0.314736            & FALSE               \\\\\n",
       "\\end{tabular}\n"
      ],
      "text/plain": [
       "   Test_Name            Frequency  Sample_Size Statistic   Two_sided_p\n",
       "1  Independent Runs     (t-1 to t) 7031        3222.000000 0.000000   \n",
       "2  Durbin-Watson        (t-1 to t) 7031           1.984082 0.504560   \n",
       "3  Ljung-Box            (t-1 to t) 7031          40.018562 0.000451   \n",
       "4  Breusch-Godfrey      (t-1 to t) 7031           0.443437 0.505468   \n",
       "5  Bartell Rank         (t-1 to t) 7031          -4.581588 0.000005   \n",
       "6  Variance-Ratio LoMac (t-1 to t) 7031           0.524304 0.612558   \n",
       "7  Independent Runs     (t-2 to t) 3515        1615.000000 0.000025   \n",
       "8  Durbin-Watson        (t-2 to t) 3515           2.014065 0.676748   \n",
       "9  Ljung-Box            (t-2 to t) 3515          35.686137 0.001962   \n",
       "10 Breusch-Godfrey      (t-2 to t) 3515           0.187524 0.664985   \n",
       "11 Bartell Rank         (t-2 to t) 3515          -1.561292 0.118455   \n",
       "12 Variance-Ratio LoMac (t-2 to t) 3515          -0.298505 0.427464   \n",
       "13 Independent Runs     (t-3 to t) 2343        1107.000000 0.034269   \n",
       "14 Durbin-Watson        (t-3 to t) 2343           2.059903 0.146764   \n",
       "15 Ljung-Box            (t-3 to t) 2343          36.372465 0.001562   \n",
       "16 Breusch-Godfrey      (t-3 to t) 2343           2.178456 0.139955   \n",
       "17 Bartell Rank         (t-3 to t) 2343           0.044739 0.964315   \n",
       "18 Variance-Ratio LoMac (t-3 to t) 2343           2.593742 0.889218   \n",
       "19 Independent Runs     (t-4 to t) 1757         861.000000 0.467113   \n",
       "20 Durbin-Watson        (t-4 to t) 1757           2.046819 0.325923   \n",
       "21 Ljung-Box            (t-4 to t) 1757          18.857366 0.220270   \n",
       "22 Breusch-Godfrey      (t-4 to t) 1757           0.988215 0.320179   \n",
       "23 Bartell Rank         (t-4 to t) 1757           1.664227 0.096067   \n",
       "24 Variance-Ratio LoMac (t-4 to t) 1757           2.066387 0.898717   \n",
       "25 Independent Runs     (t-5 to t) 1406         713.000000 0.905517   \n",
       "26 Durbin-Watson        (t-5 to t) 1406           2.041354 0.437799   \n",
       "27 Ljung-Box            (t-5 to t) 1406          14.701537 0.473122   \n",
       "28 Breusch-Godfrey      (t-5 to t) 1406           0.614943 0.432933   \n",
       "29 Bartell Rank         (t-5 to t) 1406           1.576687 0.114868   \n",
       "30 Variance-Ratio LoMac (t-5 to t) 1406           0.509927 0.623519   \n",
       "   Z_Score   Non_Random\n",
       "1  -6.401018  TRUE     \n",
       "2   0.011432 FALSE     \n",
       "3  -3.319694  TRUE     \n",
       "4   0.013707 FALSE     \n",
       "5  -4.434487  TRUE     \n",
       "6   0.285993 FALSE     \n",
       "7  -4.056609  TRUE     \n",
       "8   0.458625 FALSE     \n",
       "9  -2.884263  TRUE     \n",
       "10  0.426107 FALSE     \n",
       "11 -1.182746 FALSE     \n",
       "12 -0.182833 FALSE     \n",
       "13 -1.821457 FALSE     \n",
       "14 -1.050415 FALSE     \n",
       "15 -2.955341  TRUE     \n",
       "16 -1.080523 FALSE     \n",
       "17  1.803117 FALSE     \n",
       "18  1.222378 FALSE     \n",
       "19 -0.082529 FALSE     \n",
       "20 -0.451198 FALSE     \n",
       "21 -0.771281 FALSE     \n",
       "22 -0.467198 FALSE     \n",
       "23 -1.304292 FALSE     \n",
       "24  1.274274 FALSE     \n",
       "25  1.313647 FALSE     \n",
       "26 -0.156551 FALSE     \n",
       "27 -0.067424 FALSE     \n",
       "28 -0.168913 FALSE     \n",
       "29 -1.201041 FALSE     \n",
       "30  0.314736 FALSE     "
      ]
     },
     "metadata": {},
     "output_type": "display_data"
    }
   ],
   "source": [
    "head(results, 30)"
   ]
  },
  {
   "cell_type": "code",
   "execution_count": 6,
   "metadata": {
    "collapsed": false
   },
   "outputs": [
    {
     "data": {
      "image/png": "[encoded data removed]",
      "text/plain": [
       "Plot with title “Percentage of tests with non-random result by frequency”"
      ]
     },
     "metadata": {},
     "output_type": "display_data"
    },
    {
     "data": {
      "image/png": "[encoded data removed]",
      "text/plain": [
       "Plot with title “Percentage of tests with non-random result by test name”"
      ]
     },
     "metadata": {},
     "output_type": "display_data"
    }
   ],
   "source": [
    "plot_results(results)"
   ]
  },
  {
   "cell_type": "markdown",
   "metadata": {},
   "source": [
    "## Interpreting the results"
   ]
  },
  {
   "cell_type": "markdown",
   "metadata": {},
   "source": [
    "In the two graphs above we can see that there are a large number of non-random results at the $t-1$ to $t$, and $t-2$ to $t$ frequencies. \n",
    "\n",
    "This might imply that the selected market, the small cap index of the S&P 500, is non-random at those frequencies. When we look at the second graph we see that most of the results were produced by the Ljung-Box and Durbin-Watson statistical tests which implies that there might exist some serial correlations in the data which are significantly different from zero. These tests do not tell us how _economically_ significant the serial correlations are nor does it tell us _where_ in the data these serial correlations were observed. These questions are best left to the entrepid quant trader to answer."
   ]
  }
 ],
 "metadata": {
  "kernelspec": {
   "display_name": "R",
   "language": "R",
   "name": "ir"
  },
  "language_info": {
   "codemirror_mode": "r",
   "file_extension": ".r",
   "mimetype": "text/x-r-source",
   "name": "R",
   "pygments_lexer": "r",
   "version": "3.2.3"
  }
 },
 "nbformat": 4,
 "nbformat_minor": 1
}
