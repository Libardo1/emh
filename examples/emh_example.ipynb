{
 "cells": [
  {
   "cell_type": "markdown",
   "metadata": {},
   "source": [
    "# The emh Rpackage"
   ]
  },
  {
   "cell_type": "markdown",
   "metadata": {},
   "source": [
    "The emh package allows you to test the effeciency of any univariate zoo time series object in R.\n",
    "\n",
    "The package achieves this using the following methodology,\n",
    "\n",
    "* Downsample the data into a number of subfrequencies\n",
    "* Run a suite of statistical tests of randomness on each subfrequency\n",
    "* Aggregate the results (p values, Z scores, etc.) in a data.frame and return it\n",
    "\n",
    "In addition to randomness tests emh also includes a number of stochastic process models."
   ]
  },
  {
   "cell_type": "markdown",
   "metadata": {},
   "source": [
    "## Installing the package"
   ]
  },
  {
   "cell_type": "markdown",
   "metadata": {},
   "source": [
    "The first step to using the package is to download it and install it using the devtools R package"
   ]
  },
  {
   "cell_type": "code",
   "execution_count": 1,
   "metadata": {
    "collapsed": false
   },
   "outputs": [],
   "source": [
    "library(devtools)\n",
    "suppressMessages(install_github(repo=\"stuartgordonreid/emh\", \n",
    "                                force = TRUE))"
   ]
  },
  {
   "cell_type": "markdown",
   "metadata": {},
   "source": [
    "Now check that you can load the package,"
   ]
  },
  {
   "cell_type": "code",
   "execution_count": 2,
   "metadata": {
    "collapsed": false
   },
   "outputs": [],
   "source": [
    "suppressMessages(library(emh))"
   ]
  },
  {
   "cell_type": "markdown",
   "metadata": {},
   "source": [
    "## Getting datasets"
   ]
  },
  {
   "cell_type": "markdown",
   "metadata": {},
   "source": [
    "The emh package includes a few functions which allow you to download a bunch of global stock market indices from Quandl.com right off the bat. You can, of course, also pass in your own data. I recommend sticking with zoo objects when using emh because of how the downsampling works."
   ]
  },
  {
   "cell_type": "code",
   "execution_count": null,
   "metadata": {
    "collapsed": false
   },
   "outputs": [],
   "source": [
    "# This may take some time. Use the S3, $ operator to see the datasets.\n",
    "global_indices <- emh::data_quandl_downloader(data_quandl_indices())"
   ]
  },
  {
   "cell_type": "markdown",
   "metadata": {},
   "source": [
    "## Generating results"
   ]
  },
  {
   "cell_type": "markdown",
   "metadata": {},
   "source": [
    "Generating a data.frame with the results from each of the randomness tests is as easy as passing a zoo object into the is_random function in emh. This function will downsample the data into multiple lower frequencies and run a battery of tests on each subfrequency. \n",
    "\n",
    "Frequencies are specified by the freqs1 and freqs2 arguments,\n",
    "\n",
    "* freqs1 - this specifies the _lags_ to use when computing returns\n",
    "* freqs2 - this specifies time-aware lags. Options are: c(\"Mon\", \"Tue\", \"Wed\", \"Thu\", \"Fri\", \"Week\", \"Month\")"
   ]
  },
  {
   "cell_type": "code",
   "execution_count": null,
   "metadata": {
    "collapsed": false
   },
   "outputs": [],
   "source": [
    "results <- is_random(S = global_indices$'YAHOO/INDEX_SML',\n",
    "                     a = 0.99, # To get a 99% confident result\n",
    "                     freqs1 = c(1, 2, 3, 4, 5, 6, 7, 8, 9, 10),\n",
    "                     freqs2 = c(\"Mon\", \"Tue\", \"Wed\", \"Thu\", \"Fri\", \"Week\", \"Month\"))"
   ]
  },
  {
   "cell_type": "markdown",
   "metadata": {},
   "source": [
    "## Analyzing the results"
   ]
  },
  {
   "cell_type": "markdown",
   "metadata": {},
   "source": [
    "You can now view the results (a data.frame object) or plot some interesting statistics"
   ]
  },
  {
   "cell_type": "code",
   "execution_count": null,
   "metadata": {
    "collapsed": false
   },
   "outputs": [],
   "source": [
    "head(results)"
   ]
  },
  {
   "cell_type": "code",
   "execution_count": null,
   "metadata": {
    "collapsed": false
   },
   "outputs": [],
   "source": [
    "plot_results(results)"
   ]
  },
  {
   "cell_type": "markdown",
   "metadata": {},
   "source": [
    "## Interpreting the results"
   ]
  },
  {
   "cell_type": "markdown",
   "metadata": {},
   "source": [
    "In the two graphs above we can see that there are a large number of non-random results at the $t-1$ to $t$, and $t-2$ to $t$ frequencies. \n",
    "\n",
    "This might imply that the selected market, the small cap index of the S&P 500, is non-random at those frequencies. When we look at the second graph we see that most of the results were produced by the Ljung-Box and Durbin-Watson statistical tests which implies that there might exist some serial correlations in the data which are significantly different from zero. These tests do not tell us how _economically_ significant the serial correlations are nor does it tell us _where_ in the data these serial correlations were observed. These questions are best left to the entrepid quant trader to answer."
   ]
  }
 ],
 "metadata": {
  "kernelspec": {
   "display_name": "R",
   "language": "R",
   "name": "ir"
  },
  "language_info": {
   "codemirror_mode": "r",
   "file_extension": ".r",
   "mimetype": "text/x-r-source",
   "name": "R",
   "pygments_lexer": "r",
   "version": "3.2.3"
  }
 },
 "nbformat": 4,
 "nbformat_minor": 1
}
